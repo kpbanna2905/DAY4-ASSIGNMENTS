{
 "cells": [
  {
   "cell_type": "markdown",
   "metadata": {},
   "source": [
    "# DAY4"
   ]
  },
  {
   "cell_type": "markdown",
   "metadata": {},
   "source": [
    "# ASSIGNMENT1"
   ]
  },
  {
   "cell_type": "code",
   "execution_count": null,
   "metadata": {},
   "outputs": [],
   "source": [
    "#WRITE DOWN A PROGRAM IN PYTHON FOR OPENING A FILE AND WRITING 'I LOVE LETSUPGRADE.' AND CLOSE IT ,AND READ IT BACK AGAIN AND THEN APPEND SOME DATA TO IT AND CLOSE IT. "
   ]
  },
  {
   "cell_type": "code",
   "execution_count": 35,
   "metadata": {},
   "outputs": [],
   "source": [
    "abc=open (\"Heyletsupgradians.txt\",'w')\n",
    "abc.write (\"I LOVE LETSUPGRADE. \")\n",
    "abc.close ()"
   ]
  },
  {
   "cell_type": "code",
   "execution_count": 36,
   "metadata": {},
   "outputs": [],
   "source": [
    "abc=open (\"Heyletsupgradians.txt\",'r')\n",
    "content=abc.read ()\n",
    "abc.close ()"
   ]
  },
  {
   "cell_type": "code",
   "execution_count": 37,
   "metadata": {},
   "outputs": [],
   "source": [
    "abc=open (\"Heyletsupgradians.txt\",'a')\n",
    "abc.write (\" Are you ready for final exam ? \")\n",
    "abc.close ()"
   ]
  },
  {
   "cell_type": "markdown",
   "metadata": {},
   "source": [
    "# ASSIGNMENT2"
   ]
  },
  {
   "cell_type": "code",
   "execution_count": null,
   "metadata": {},
   "outputs": [],
   "source": [
    "#WRITE A FUNCTION WHICH CAN RETURN A FACTORIAL OF ANY NUMBER AS INT,GIVEN IN THE ARGUMENT"
   ]
  },
  {
   "cell_type": "code",
   "execution_count": null,
   "metadata": {},
   "outputs": [],
   "source": [
    "def factorial(n):\n",
    "    if n == 0:\n",
    "        return 1\n",
    "    else:\n",
    "        return n * factorial(n-1)\n",
    "n=int(input(\"Input a number to compute the factorial : \"))\n",
    "print(\"the factorial of \",n,\"is \",factorial(n))\n"
   ]
  }
 ],
 "metadata": {
  "kernelspec": {
   "display_name": "Python 3",
   "language": "python",
   "name": "python3"
  },
  "language_info": {
   "codemirror_mode": {
    "name": "ipython",
    "version": 3
   },
   "file_extension": ".py",
   "mimetype": "text/x-python",
   "name": "python",
   "nbconvert_exporter": "python",
   "pygments_lexer": "ipython3",
   "version": "3.8.3"
  }
 },
 "nbformat": 4,
 "nbformat_minor": 4
}
